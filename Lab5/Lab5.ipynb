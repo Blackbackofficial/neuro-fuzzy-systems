{
 "cells": [
  {
   "cell_type": "code",
   "execution_count": null,
   "metadata": {},
   "outputs": [],
   "source": [
    "#Нейро-нечеткие системы\n",
    "#Лабораторная работа №5\n",
    "\n",
    "#Задача: классификация текстов"
   ]
  },
  {
   "cell_type": "code",
   "execution_count": 557,
   "metadata": {},
   "outputs": [
    {
     "name": "stderr",
     "output_type": "stream",
     "text": [
      "[nltk_data] Downloading package stopwords to\n",
      "[nltk_data]     /Users/ivanchernov/nltk_data...\n",
      "[nltk_data]   Package stopwords is already up-to-date!\n",
      "[nltk_data] Downloading package wordnet to\n",
      "[nltk_data]     /Users/ivanchernov/nltk_data...\n",
      "[nltk_data]   Package wordnet is already up-to-date!\n"
     ]
    },
    {
     "data": {
      "text/plain": [
       "True"
      ]
     },
     "execution_count": 557,
     "metadata": {},
     "output_type": "execute_result"
    }
   ],
   "source": [
    "#мешок слов\n",
    "\n",
    "%matplotlib inline\n",
    "import os\n",
    "\n",
    "from ipywidgets import Select, SelectMultiple, interactive,  Layout, Box, Label\n",
    "\n",
    "from sklearn import feature_extraction, model_selection, naive_bayes, pipeline, manifold, preprocessing, feature_selection\n",
    "import sklearn.metrics as metrics\n",
    "\n",
    "import pandas as pd\n",
    "import numpy as np\n",
    "## for plotting\n",
    "import matplotlib.pyplot as plt\n",
    "#import seaborn as sns\n",
    "## for processing\n",
    "import re\n",
    "from sklearn.model_selection import train_test_split\n",
    "import sklearn.feature_selection \n",
    "import nltk\n",
    "#перед использованием раскомментировать\n",
    "nltk.download(\"stopwords\")\n",
    "nltk.download('wordnet')"
   ]
  },
  {
   "cell_type": "code",
   "execution_count": 558,
   "metadata": {},
   "outputs": [],
   "source": [
    "import tensorflow as tf\n",
    "from tensorflow import keras\n",
    "from tensorflow.python import keras\n",
    "from tensorflow.keras import layers,Sequential, Model\n",
    "from tensorflow.keras.layers import Dense, Input, Activation, Dropout\n",
    "from sklearn.model_selection import train_test_split\n",
    "from tensorflow.keras.preprocessing.text import Tokenizer\n",
    "from tensorflow.keras.preprocessing.sequence import pad_sequences\n",
    "from tensorflow.keras.callbacks import EarlyStopping,ModelCheckpoint\n",
    "from tensorflow.keras import models"
   ]
  },
  {
   "cell_type": "code",
   "execution_count": 559,
   "metadata": {},
   "outputs": [],
   "source": [
    "##!pip install gensim==3.4.0\n",
    "##!pip install smart_open==1.9.0\n",
    "# import gensim"
   ]
  },
  {
   "cell_type": "code",
   "execution_count": 754,
   "metadata": {},
   "outputs": [
    {
     "data": {
      "text/html": [
       "<div>\n",
       "<style scoped>\n",
       "    .dataframe tbody tr th:only-of-type {\n",
       "        vertical-align: middle;\n",
       "    }\n",
       "\n",
       "    .dataframe tbody tr th {\n",
       "        vertical-align: top;\n",
       "    }\n",
       "\n",
       "    .dataframe thead th {\n",
       "        text-align: right;\n",
       "    }\n",
       "</style>\n",
       "<table border=\"1\" class=\"dataframe\">\n",
       "  <thead>\n",
       "    <tr style=\"text-align: right;\">\n",
       "      <th></th>\n",
       "      <th>Unnamed: 0</th>\n",
       "      <th>Toxicity</th>\n",
       "      <th>tweet</th>\n",
       "    </tr>\n",
       "  </thead>\n",
       "  <tbody>\n",
       "    <tr>\n",
       "      <th>0</th>\n",
       "      <td>0</td>\n",
       "      <td>0</td>\n",
       "      <td>@user when a father is dysfunctional and is s...</td>\n",
       "    </tr>\n",
       "    <tr>\n",
       "      <th>1</th>\n",
       "      <td>1</td>\n",
       "      <td>0</td>\n",
       "      <td>@user @user thanks for #lyft credit i can't us...</td>\n",
       "    </tr>\n",
       "    <tr>\n",
       "      <th>2</th>\n",
       "      <td>2</td>\n",
       "      <td>0</td>\n",
       "      <td>bihday your majesty</td>\n",
       "    </tr>\n",
       "    <tr>\n",
       "      <th>3</th>\n",
       "      <td>3</td>\n",
       "      <td>0</td>\n",
       "      <td>#model   i love u take with u all the time in ...</td>\n",
       "    </tr>\n",
       "    <tr>\n",
       "      <th>4</th>\n",
       "      <td>4</td>\n",
       "      <td>0</td>\n",
       "      <td>factsguide: society now    #motivation</td>\n",
       "    </tr>\n",
       "    <tr>\n",
       "      <th>5</th>\n",
       "      <td>5</td>\n",
       "      <td>0</td>\n",
       "      <td>[2/2] huge fan fare and big talking before the...</td>\n",
       "    </tr>\n",
       "    <tr>\n",
       "      <th>6</th>\n",
       "      <td>6</td>\n",
       "      <td>0</td>\n",
       "      <td>@user camping tomorrow @user @user @user @use...</td>\n",
       "    </tr>\n",
       "    <tr>\n",
       "      <th>7</th>\n",
       "      <td>7</td>\n",
       "      <td>0</td>\n",
       "      <td>the next school year is the year for exams.ð...</td>\n",
       "    </tr>\n",
       "    <tr>\n",
       "      <th>8</th>\n",
       "      <td>8</td>\n",
       "      <td>0</td>\n",
       "      <td>we won!!! love the land!!! #allin #cavs #champ...</td>\n",
       "    </tr>\n",
       "    <tr>\n",
       "      <th>9</th>\n",
       "      <td>9</td>\n",
       "      <td>0</td>\n",
       "      <td>@user @user welcome here !  i'm   it's so #gr...</td>\n",
       "    </tr>\n",
       "  </tbody>\n",
       "</table>\n",
       "</div>"
      ],
      "text/plain": [
       "   Unnamed: 0  Toxicity                                              tweet\n",
       "0           0         0   @user when a father is dysfunctional and is s...\n",
       "1           1         0  @user @user thanks for #lyft credit i can't us...\n",
       "2           2         0                                bihday your majesty\n",
       "3           3         0  #model   i love u take with u all the time in ...\n",
       "4           4         0             factsguide: society now    #motivation\n",
       "5           5         0  [2/2] huge fan fare and big talking before the...\n",
       "6           6         0   @user camping tomorrow @user @user @user @use...\n",
       "7           7         0  the next school year is the year for exams.ð...\n",
       "8           8         0  we won!!! love the land!!! #allin #cavs #champ...\n",
       "9           9         0   @user @user welcome here !  i'm   it's so #gr..."
      ]
     },
     "execution_count": 754,
     "metadata": {},
     "output_type": "execute_result"
    }
   ],
   "source": [
    "#оригинальный датасет\n",
    "# fake_or_real_news.csv https://www.kaggle.com/hassanamin/textdb3 [label title] 0.92\n",
    "# artikel_alwi.csv 1.0\n",
    "# apple-twitter-sentiment-texts.csv https://www.kaggle.com/seriousran/appletwittersentimenttexts?select=apple-twitter-sentiment-texts.csv\n",
    "# FinalBalancedDataset.csv 0.94 позитивные и негативные твиты\n",
    "# medium_post_titles.csv 0.70 и раскомментировать\n",
    "df = pd.read_csv(\"FinalBalancedDataset.csv\", delimiter=\",\")\n",
    "# только для medium_post_titles\n",
    "# df = df.drop(df.loc[df['category'] == 'android-development'].index)\n",
    "# df = df.drop(df.loc[df['category'] == 'product-management'].index)\n",
    "# df = df.drop(df.loc[df['category'] == 'ios-development'].index)\n",
    "# df = df.drop(df.loc[df['category'] == 'venture-capital'].index)\n",
    "# df = df.drop(df.loc[df['category'] == 'self-driving-cars'].index)\n",
    "# df = df.drop(df.loc[df['category'] == 'privacy'].index)\n",
    "# # df = df.drop(df.loc[df['category'] == 'psychology'].index)\n",
    "# df = df.drop(df.loc[df['category'] == 'medium-magazine'].index)\n",
    "# df = df.drop(df.loc[df['category'] == 'true-crime'].index)\n",
    "# df = df.drop(df.loc[df['category'] == 'psychedelics'].index)\n",
    "# df = df.drop(df.loc[df['category'] == 'san-francisco'].index)\n",
    "# df = df.drop(df.loc[df['category'] == 'race'].index)\n",
    "# df = df.drop(df.loc[df['category'] == 'language'].index)\n",
    "# df = df.drop(df.loc[df['category'] == 'transportation'].index)\n",
    "# df = df.drop(df.loc[df['category'] == 'podcasts'].index)\n",
    "# df = df.drop(df.loc[df['category'] == 'basic-income'].index)\n",
    "# df = df.drop(df.loc[df['category'] == 'gun-control'].index)\n",
    "# df = df.drop(df.loc[df['category'] == 'accessibility'].index)\n",
    "# df = df.drop(df.loc[df['category'] == 'style'].index)\n",
    "# df = df.drop(df.loc[df['category'] == 'beauty'].index)\n",
    "# df = df.drop(df.loc[df['category'] == 'election-2020'].index)\n",
    "# df = df.drop(df.loc[df['category'] == 'neuroscience'].index)\n",
    "# df = df.drop(df.loc[df['category'] == 'space'].index)\n",
    "# df = df.drop(df.loc[df['category'] == 'freelancing'].index)\n",
    "# df = df.drop(df.loc[df['category'] == 'tv'].index)\n",
    "# df = df.drop(df.loc[df['category'] == 'addiction'].index)\n",
    "# df = df.drop(df.loc[df['category'] == 'immigration'].index)\n",
    "# df = df.drop(df.loc[df['category'] == 'digital-life'].index)\n",
    "# df = df.drop(df.loc[df['category'] == 'disability'].index)\n",
    "# df = df.drop(df.loc[df['category'] == 'lgbtqia'].index)\n",
    "# df = df.drop(df.loc[df['category'] == 'future'].index)\n",
    "# df = df.drop(df.loc[df['category'] == 'women'].index)\n",
    "# df = df.drop(df.loc[df['category'] == 'religion'].index)\n",
    "# df = df.drop(df.loc[df['category'] == 'pets'].index)\n",
    "# df = df.drop(df.loc[df['category'] == 'justice'].index)\n",
    "# df = df.drop(df.loc[df['category'] == 'mindfulness'].index)\n",
    "# df = df.drop(df.loc[df['category'] == 'gadgets'].index)\n",
    "# df = df.drop(df.loc[df['category'] == 'cities'].index)\n",
    "# df = df.drop(df.loc[df['category'] == 'math'].index)\n",
    "# df = df.drop(df.loc[df['category'] == 'ux'].index)\n",
    "# df = df.drop(df.loc[df['category'] == 'creativity'].index)\n",
    "# df = df.drop(df.loc[df['category'] == 'productivity'].index)\n",
    "# df = df.drop(df.loc[df['category'] == 'photography'].index)\n",
    "# df = df.drop(df.loc[df['category'] == 'comics'].index)\n",
    "# df = df.drop(df.loc[df['category'] == 'sexuality'].index)\n",
    "# df = df.drop(df.loc[df['category'] == 'money'].index)\n",
    "# df = df.drop(df.loc[df['category'] == 'books'].index)\n",
    "# df = df.drop(df.loc[df['category'] == 'programming'].index)\n",
    "# df = df.drop(df.loc[df['category'] == 'media'].index)\n",
    "# df = df.drop(df.loc[df['category'] == 'spirituality'].index)\n",
    "# df = df.drop(df.loc[df['category'] == 'gaming'].index)\n",
    "# df = df.drop(df.loc[df['category'] == 'art'].index)\n",
    "# df = df.drop(df.loc[df['category'] == 'philosophy'].index)\n",
    "# df = df.drop(df.loc[df['category'] == 'design'].index)\n",
    "# df = df.drop(df.loc[df['category'] == 'blockchain'].index)\n",
    "# df = df.drop(df.loc[df['category'] == 'psychology'].index)\n",
    "# df = df.drop(df.loc[df['category'] == 'culture'].index)\n",
    "# df = df.drop(df.loc[df['category'] == 'equality'].index)\n",
    "# df = df.drop(df.loc[df['category'] == 'work'].index)\n",
    "# df = df.drop(df.loc[df['category'] == 'politics'].index)\n",
    "# df = df.drop(df.loc[df['category'] == 'writing'].index)\n",
    "# df = df.drop(df.loc[df['category'] == 'business'].index)\n",
    "# df = df.drop(df.loc[df['category'] == 'javascript'].index)\n",
    "# df = df.drop(df.loc[df['category'] == 'cybersecurity'].index)\n",
    "# df = df.drop(df.loc[df['category'] == 'parenting'].index)\n",
    "# df = df.drop(df.loc[df['category'] == 'visual-design'].index)\n",
    "# df = df.drop(df.loc[df['category'] == 'humor'].index)\n",
    "# df = df.drop(df.loc[df['category'] == 'history'].index)\n",
    "# df = df.drop(df.loc[df['category'] == 'data-science'].index)\n",
    "# df = df.drop(df.loc[df['category'] == 'world'].index)\n",
    "# df = df.drop(df.loc[df['category'] == 'poetry'].index)\n",
    "# df = df.drop(df.loc[df['category'] == 'lifestyle'].index)\n",
    "# df = df.drop(df.loc[df['category'] == 'fiction'].index)\n",
    "# df = df.drop(df.loc[df['category'] == 'food'].index)\n",
    "# df = df.drop(df.loc[df['category'] == 'education'].index)\n",
    "# df = df.drop(df.loc[df['category'] == 'film'].index)\n",
    "# df = df.drop(df.loc[df['category'] == 'sports'].index)\n",
    "# df = df.drop(df.loc[df['category'] == 'startups'].index)\n",
    "# df = df.drop(df.loc[df['category'] == 'music'].index)\n",
    "# df = df.drop(df.loc[df['category'] == 'cryptocurrency'].index)\n",
    "# df = df.drop(df.loc[df['category'] == 'marketing'].index)\n",
    "# df = df.drop(df.loc[df['category'] == 'travel'].index)\n",
    "# df = df.drop(df.loc[df['category'] == 'machine-learning'].index)\n",
    "# df = df.drop(df.loc[df['category'] == 'mental-health'].index)\n",
    "# df = df.drop(df.loc[df['category'] == 'environment'].index)\n",
    "# df = df.drop(df.loc[df['category'] == 'technology'].index)\n",
    "# df = df.drop(df.loc[df['category'] == 'science'].index)\n",
    "# df = df.drop(df.loc[df['category'] == 'software-engineering'].index)\n",
    "# df = df.drop(df.loc[df['category'] == 'artificial-intelligence'].index)\n",
    "# df = df.select_dtypes(include=['number'])\n",
    "df = df.fillna('h')\n",
    "df.head(10)"
   ]
  },
  {
   "cell_type": "code",
   "execution_count": 755,
   "metadata": {},
   "outputs": [],
   "source": [
    "# #оригинальный датасет\n",
    "# df = pd.read_csv(\"./datasets/\" + fileselect.value, delimiter=\",\")\n",
    "# df.head(10)"
   ]
  },
  {
   "cell_type": "code",
   "execution_count": 756,
   "metadata": {},
   "outputs": [
    {
     "data": {
      "application/vnd.jupyter.widget-view+json": {
       "model_id": "4f55c141489743b581c2bc8c160e77fc",
       "version_major": 2,
       "version_minor": 0
      },
      "text/plain": [
       "Select(description='Select file:', options=('Unnamed: 0', 'Toxicity', 'tweet'), value='Unnamed: 0')"
      ]
     },
     "metadata": {},
     "output_type": "display_data"
    }
   ],
   "source": [
    "#выбрать столбец, который будет отвечать за тип\n",
    "yselect = Select(\n",
    "        options=list(df.columns),\n",
    "        value=list(df.columns)[0],\n",
    "        description='Select file:',\n",
    "        disabled=False\n",
    "    )\n",
    "yselect"
   ]
  },
  {
   "cell_type": "code",
   "execution_count": 757,
   "metadata": {},
   "outputs": [
    {
     "data": {
      "application/vnd.jupyter.widget-view+json": {
       "model_id": "c0b4f6417f664c52bf8a72227ad0847c",
       "version_major": 2,
       "version_minor": 0
      },
      "text/plain": [
       "Select(description='Select file:', options=('Unnamed: 0', 'Toxicity', 'tweet'), value='Unnamed: 0')"
      ]
     },
     "metadata": {},
     "output_type": "display_data"
    }
   ],
   "source": [
    "#выбрать столбец, который будет отвечать за текст\n",
    "xselect = Select(\n",
    "        options=list(df.columns),\n",
    "        value=list(df.columns)[0],\n",
    "        description='Select file:',\n",
    "        disabled=False\n",
    "    )\n",
    "xselect"
   ]
  },
  {
   "cell_type": "code",
   "execution_count": 758,
   "metadata": {
    "scrolled": true
   },
   "outputs": [
    {
     "data": {
      "image/png": "[encoded data removed]",
      "text/plain": [
       "<Figure size 432x288 with 1 Axes>"
      ]
     },
     "metadata": {
      "needs_background": "light"
     },
     "output_type": "display_data"
    }
   ],
   "source": [
    "#просто смотрим какие у нас есть лейблы\n",
    "fig, ax = plt.subplots()\n",
    "fig.suptitle(\"this is what we have\", fontsize=12)\n",
    "df[yselect.value].reset_index().groupby(yselect.value).count().sort_values(by= \n",
    "       \"index\").plot(kind=\"barh\", legend=False, \n",
    "        ax=ax).grid(axis='x')\n",
    "plt.show()"
   ]
  },
  {
   "cell_type": "code",
   "execution_count": 759,
   "metadata": {},
   "outputs": [],
   "source": [
    "x = df[xselect.value].copy()\n",
    "y = df[yselect.value].copy()\n",
    "x_train, x_test, y_train, y_test = train_test_split(x, y, stratify=y, test_size=0.1)"
   ]
  },
  {
   "cell_type": "code",
   "execution_count": 760,
   "metadata": {},
   "outputs": [],
   "source": [
    "from tensorflow.keras.preprocessing import text, sequence\n",
    "#здесь тот же Bag of Words\n",
    "max_words = 2000\n",
    "tokenize = text.Tokenizer(num_words=max_words, char_level=False)"
   ]
  },
  {
   "cell_type": "code",
   "execution_count": 761,
   "metadata": {},
   "outputs": [],
   "source": [
    "tokenize.fit_on_texts(x_train) \n",
    "x_train = tokenize.texts_to_matrix(x_train)\n",
    "x_test = tokenize.texts_to_matrix(x_test)"
   ]
  },
  {
   "cell_type": "code",
   "execution_count": 762,
   "metadata": {},
   "outputs": [
    {
     "data": {
      "text/plain": [
       "array([[0., 0., 0., ..., 0., 0., 0.],\n",
       "       [0., 0., 0., ..., 0., 0., 0.],\n",
       "       [0., 0., 0., ..., 0., 0., 0.],\n",
       "       ...,\n",
       "       [0., 0., 0., ..., 0., 0., 0.],\n",
       "       [0., 0., 0., ..., 0., 0., 0.],\n",
       "       [0., 0., 0., ..., 0., 0., 0.]])"
      ]
     },
     "execution_count": 762,
     "metadata": {},
     "output_type": "execute_result"
    }
   ],
   "source": [
    "x_train"
   ]
  },
  {
   "cell_type": "code",
   "execution_count": 763,
   "metadata": {},
   "outputs": [],
   "source": [
    "from sklearn.preprocessing import LabelBinarizer, LabelEncoder\n",
    "encoder = LabelEncoder()\n",
    "encoder.fit(y_train)\n",
    "y_train = encoder.transform(y_train)\n",
    "y_test = encoder.transform(y_test)"
   ]
  },
  {
   "cell_type": "code",
   "execution_count": 764,
   "metadata": {},
   "outputs": [
    {
     "data": {
      "text/plain": [
       "array([0, 1, 1, ..., 1, 1, 0])"
      ]
     },
     "execution_count": 764,
     "metadata": {},
     "output_type": "execute_result"
    }
   ],
   "source": [
    "y_train"
   ]
  },
  {
   "cell_type": "code",
   "execution_count": 765,
   "metadata": {},
   "outputs": [],
   "source": [
    "from tensorflow.keras import utils\n",
    "num_classes = np.max(y_train) + 1\n",
    "y_train = utils.to_categorical(y_train, num_classes)\n",
    "y_test = utils.to_categorical(y_test, num_classes)"
   ]
  },
  {
   "cell_type": "code",
   "execution_count": 766,
   "metadata": {},
   "outputs": [
    {
     "name": "stdout",
     "output_type": "stream",
     "text": [
      "Model: \"sequential_78\"\n",
      "_________________________________________________________________\n",
      "Layer (type)                 Output Shape              Param #   \n",
      "=================================================================\n",
      "dense_160 (Dense)            (None, 512)               1024512   \n",
      "_________________________________________________________________\n",
      "activation_229 (Activation)  (None, 512)               0         \n",
      "_________________________________________________________________\n",
      "dense_161 (Dense)            (None, 2)                 1026      \n",
      "_________________________________________________________________\n",
      "activation_230 (Activation)  (None, 2)                 0         \n",
      "=================================================================\n",
      "Total params: 1,025,538\n",
      "Trainable params: 1,025,538\n",
      "Non-trainable params: 0\n",
      "_________________________________________________________________\n"
     ]
    }
   ],
   "source": [
    "batch_size = 32\n",
    "epochs = 20\n",
    "\n",
    "model = Sequential()\n",
    "model.add(Dense(512, input_shape=(max_words,)))\n",
    "model.add(Activation('relu'))\n",
    "model.add(Dense(num_classes))\n",
    "model.add(Activation('softmax'))\n",
    "\n",
    "model.compile(loss='binary_crossentropy', optimizer='adam', metrics=['accuracy'])\n",
    "\n",
    "model.summary()"
   ]
  },
  {
   "cell_type": "code",
   "execution_count": 767,
   "metadata": {},
   "outputs": [
    {
     "name": "stdout",
     "output_type": "stream",
     "text": [
      "Epoch 1/20\n",
      "1437/1437 [==============================] - 6s 4ms/step - loss: 0.2686 - accuracy: 0.9024 - val_loss: 0.1698 - val_accuracy: 0.9338\n",
      "Epoch 2/20\n",
      "1437/1437 [==============================] - 5s 4ms/step - loss: 0.1336 - accuracy: 0.9475 - val_loss: 0.1695 - val_accuracy: 0.9338\n",
      "Epoch 3/20\n",
      "1437/1437 [==============================] - 5s 4ms/step - loss: 0.0927 - accuracy: 0.9669 - val_loss: 0.1845 - val_accuracy: 0.9334\n",
      "Epoch 4/20\n",
      "1437/1437 [==============================] - 5s 4ms/step - loss: 0.0547 - accuracy: 0.9824 - val_loss: 0.2192 - val_accuracy: 0.9332\n",
      "Epoch 5/20\n",
      "1437/1437 [==============================] - 5s 4ms/step - loss: 0.0283 - accuracy: 0.9917 - val_loss: 0.2505 - val_accuracy: 0.9354\n",
      "Epoch 6/20\n",
      "1437/1437 [==============================] - 5s 4ms/step - loss: 0.0157 - accuracy: 0.9956 - val_loss: 0.2905 - val_accuracy: 0.9350\n",
      "Epoch 7/20\n",
      "1437/1437 [==============================] - 5s 4ms/step - loss: 0.0102 - accuracy: 0.9973 - val_loss: 0.3068 - val_accuracy: 0.9352\n",
      "Epoch 8/20\n",
      "1437/1437 [==============================] - 5s 4ms/step - loss: 0.0080 - accuracy: 0.9977 - val_loss: 0.3631 - val_accuracy: 0.9350\n",
      "Epoch 9/20\n",
      "1437/1437 [==============================] - 5s 4ms/step - loss: 0.0063 - accuracy: 0.9982 - val_loss: 0.3780 - val_accuracy: 0.9366\n",
      "Epoch 10/20\n",
      "1437/1437 [==============================] - 5s 4ms/step - loss: 0.0061 - accuracy: 0.9980 - val_loss: 0.3927 - val_accuracy: 0.9334\n",
      "Epoch 11/20\n",
      "1437/1437 [==============================] - 5s 4ms/step - loss: 0.0048 - accuracy: 0.9988 - val_loss: 0.4054 - val_accuracy: 0.9346\n",
      "Epoch 12/20\n",
      "1437/1437 [==============================] - 7s 5ms/step - loss: 0.0045 - accuracy: 0.9985 - val_loss: 0.4335 - val_accuracy: 0.9340\n",
      "Epoch 13/20\n",
      "1437/1437 [==============================] - 5s 4ms/step - loss: 0.0038 - accuracy: 0.9984 - val_loss: 0.4868 - val_accuracy: 0.9321\n",
      "Epoch 14/20\n",
      "1437/1437 [==============================] - 5s 4ms/step - loss: 0.0040 - accuracy: 0.9984 - val_loss: 0.4671 - val_accuracy: 0.9334\n",
      "Epoch 15/20\n",
      "1437/1437 [==============================] - 5s 4ms/step - loss: 0.0044 - accuracy: 0.9984 - val_loss: 0.4816 - val_accuracy: 0.9330\n",
      "Epoch 16/20\n",
      "1437/1437 [==============================] - 5s 4ms/step - loss: 0.0054 - accuracy: 0.9980 - val_loss: 0.4967 - val_accuracy: 0.9348\n",
      "Epoch 17/20\n",
      "1437/1437 [==============================] - 5s 4ms/step - loss: 0.0041 - accuracy: 0.9988 - val_loss: 0.4736 - val_accuracy: 0.9356\n",
      "Epoch 18/20\n",
      "1437/1437 [==============================] - 5s 4ms/step - loss: 0.0034 - accuracy: 0.9987 - val_loss: 0.5126 - val_accuracy: 0.9332\n",
      "Epoch 19/20\n",
      "1437/1437 [==============================] - 5s 4ms/step - loss: 0.0041 - accuracy: 0.9986 - val_loss: 0.5222 - val_accuracy: 0.9328\n",
      "Epoch 20/20\n",
      "1437/1437 [==============================] - 6s 4ms/step - loss: 0.0041 - accuracy: 0.9985 - val_loss: 0.5350 - val_accuracy: 0.9336\n"
     ]
    }
   ],
   "source": [
    "history = model.fit(x_train, y_train,\n",
    "                    batch_size=batch_size,\n",
    "                    epochs=epochs, validation_split=0.1)"
   ]
  },
  {
   "cell_type": "code",
   "execution_count": 768,
   "metadata": {
    "scrolled": true,
    "pycharm": {
     "name": "#%%\n"
    }
   },
   "outputs": [
    {
     "name": "stdout",
     "output_type": "stream",
     "text": [
      "178/178 [==============================] - 0s 2ms/step - loss: 0.4182 - accuracy: 0.9424\n",
      "Test accuracy: 0.9423788785934448\n"
     ]
    }
   ],
   "source": [
    "score = model.evaluate(x_test, y_test) # x_test y_test\n",
    "print('Test accuracy:', score[1])\n"
   ]
  }
 ],
 "metadata": {
  "kernelspec": {
   "display_name": "Python 3",
   "language": "python",
   "name": "python3"
  },
  "language_info": {
   "codemirror_mode": {
    "name": "ipython",
    "version": 3
   },
   "file_extension": ".py",
   "mimetype": "text/x-python",
   "name": "python",
   "nbconvert_exporter": "python",
   "pygments_lexer": "ipython3",
   "version": "3.8.8"
  }
 },
 "nbformat": 4,
 "nbformat_minor": 4
}