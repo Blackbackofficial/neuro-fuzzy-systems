{
 "cells": [
  {
   "cell_type": "code",
   "execution_count": 3,
   "metadata": {},
   "outputs": [],
   "source": [
    "#Нейро-нечеткие системы\n",
    "#Лабораторная работа №2\n",
    "\n",
    "#Задача: кластеризация данных"
   ]
  },
  {
   "cell_type": "code",
   "execution_count": 4,
   "metadata": {},
   "outputs": [],
   "source": [
    "from IPython.core.display import display\n",
    "%matplotlib inline\n",
    "import os\n",
    "import pandas as pd\n",
    "import matplotlib.pyplot as plt\n",
    "from ipywidgets import Select, interactive,  Layout, Box, Label\n",
    "from sklearn.preprocessing import StandardScaler\n",
    "import numpy as np\n",
    "from sklearn import cluster\n",
    "from sklearn.cluster import KMeans\n",
    "from sklearn.cluster import DBSCAN"
   ]
  },
  {
   "cell_type": "code",
   "execution_count": 5,
   "metadata": {},
   "outputs": [
    {
     "data": {
      "text/plain": "Select(description='Select file:', options=('test.csv',), value='test.csv')",
      "application/vnd.jupyter.widget-view+json": {
       "version_major": 2,
       "version_minor": 0,
       "model_id": "516eebd1b53d4b2c948a777dcea4f21b"
      }
     },
     "metadata": {},
     "output_type": "display_data"
    }
   ],
   "source": [
    "#поиск всех файлов в папке\n",
    "files = []\n",
    "for file in os.listdir(\".\"):\n",
    "    if file.endswith('.csv'):\n",
    "        files.append(file) \n",
    "        \n",
    "if len(files) != 0:\n",
    "\n",
    "    fileselect = Select(\n",
    "        options=files,\n",
    "        value=files[0],\n",
    "        description='Select file:',\n",
    "        disabled=False\n",
    "    )\n",
    "fileselect"
   ]
  },
  {
   "cell_type": "code",
   "execution_count": 6,
   "metadata": {
    "scrolled": true
   },
   "outputs": [
    {
     "data": {
      "text/plain": "             Rank   Major_code          Total            Men          Women  \\\ncount  173.000000   173.000000     172.000000     172.000000     172.000000   \nmean    87.000000  3879.815029   39370.081395   16723.406977   22646.674419   \nstd     50.084928  1687.753140   63483.491009   28122.433474   41057.330740   \nmin      1.000000  1100.000000     124.000000     119.000000       0.000000   \n25%     44.000000  2403.000000    4549.750000    2177.500000    1778.250000   \n50%     87.000000  3608.000000   15104.000000    5434.000000    8386.500000   \n75%    130.000000  5503.000000   38909.750000   14631.000000   22553.750000   \nmax    173.000000  6403.000000  393735.000000  173809.000000  307087.000000   \n\n       ShareWomen  Sample_size       Employed      Full_time      Part_time  \\\ncount  172.000000   173.000000     173.000000     173.000000     173.000000   \nmean     0.522223   356.080925   31192.763006   26029.306358    8832.398844   \nstd      0.231205   618.361022   50675.002241   42869.655092   14648.179473   \nmin      0.000000     2.000000       0.000000     111.000000       0.000000   \n25%      0.336026    39.000000    3608.000000    3154.000000    1030.000000   \n50%      0.534024   130.000000   11797.000000   10048.000000    3299.000000   \n75%      0.703299   338.000000   31433.000000   25147.000000    9948.000000   \nmax      0.968954  4212.000000  307933.000000  251540.000000  115172.000000   \n\n       Full_time_year_round    Unemployed  Unemployment_rate         Median  \\\ncount            173.000000    173.000000         173.000000     173.000000   \nmean           19694.427746   2416.329480           0.068191   40151.445087   \nstd            33160.941514   4112.803148           0.030331   11470.181802   \nmin              111.000000      0.000000           0.000000   22000.000000   \n25%             2453.000000    304.000000           0.050306   33000.000000   \n50%             7413.000000    893.000000           0.067961   36000.000000   \n75%            16891.000000   2393.000000           0.087557   45000.000000   \nmax           199897.000000  28169.000000           0.177226  110000.000000   \n\n              P25th          P75th   College_jobs  Non_college_jobs  \\\ncount    173.000000     173.000000     173.000000        173.000000   \nmean   29501.445087   51494.219653   12322.635838      13284.497110   \nstd     9166.005235   14906.279740   21299.868863      23789.655363   \nmin    18500.000000   22000.000000       0.000000          0.000000   \n25%    24000.000000   42000.000000    1675.000000       1591.000000   \n50%    27000.000000   47000.000000    4390.000000       4595.000000   \n75%    33000.000000   60000.000000   14444.000000      11783.000000   \nmax    95000.000000  125000.000000  151643.000000     148395.000000   \n\n       Low_wage_jobs  \ncount     173.000000  \nmean     3859.017341  \nstd      6944.998579  \nmin         0.000000  \n25%       340.000000  \n50%      1231.000000  \n75%      3466.000000  \nmax     48207.000000  ",
      "text/html": "<div>\n<style scoped>\n    .dataframe tbody tr th:only-of-type {\n        vertical-align: middle;\n    }\n\n    .dataframe tbody tr th {\n        vertical-align: top;\n    }\n\n    .dataframe thead th {\n        text-align: right;\n    }\n</style>\n<table border=\"1\" class=\"dataframe\">\n  <thead>\n    <tr style=\"text-align: right;\">\n      <th></th>\n      <th>Rank</th>\n      <th>Major_code</th>\n      <th>Total</th>\n      <th>Men</th>\n      <th>Women</th>\n      <th>ShareWomen</th>\n      <th>Sample_size</th>\n      <th>Employed</th>\n      <th>Full_time</th>\n      <th>Part_time</th>\n      <th>Full_time_year_round</th>\n      <th>Unemployed</th>\n      <th>Unemployment_rate</th>\n      <th>Median</th>\n      <th>P25th</th>\n      <th>P75th</th>\n      <th>College_jobs</th>\n      <th>Non_college_jobs</th>\n      <th>Low_wage_jobs</th>\n    </tr>\n  </thead>\n  <tbody>\n    <tr>\n      <th>count</th>\n      <td>173.000000</td>\n      <td>173.000000</td>\n      <td>172.000000</td>\n      <td>172.000000</td>\n      <td>172.000000</td>\n      <td>172.000000</td>\n      <td>173.000000</td>\n      <td>173.000000</td>\n      <td>173.000000</td>\n      <td>173.000000</td>\n      <td>173.000000</td>\n      <td>173.000000</td>\n      <td>173.000000</td>\n      <td>173.000000</td>\n      <td>173.000000</td>\n      <td>173.000000</td>\n      <td>173.000000</td>\n      <td>173.000000</td>\n      <td>173.000000</td>\n    </tr>\n    <tr>\n      <th>mean</th>\n      <td>87.000000</td>\n      <td>3879.815029</td>\n      <td>39370.081395</td>\n      <td>16723.406977</td>\n      <td>22646.674419</td>\n      <td>0.522223</td>\n      <td>356.080925</td>\n      <td>31192.763006</td>\n      <td>26029.306358</td>\n      <td>8832.398844</td>\n      <td>19694.427746</td>\n      <td>2416.329480</td>\n      <td>0.068191</td>\n      <td>40151.445087</td>\n      <td>29501.445087</td>\n      <td>51494.219653</td>\n      <td>12322.635838</td>\n      <td>13284.497110</td>\n      <td>3859.017341</td>\n    </tr>\n    <tr>\n      <th>std</th>\n      <td>50.084928</td>\n      <td>1687.753140</td>\n      <td>63483.491009</td>\n      <td>28122.433474</td>\n      <td>41057.330740</td>\n      <td>0.231205</td>\n      <td>618.361022</td>\n      <td>50675.002241</td>\n      <td>42869.655092</td>\n      <td>14648.179473</td>\n      <td>33160.941514</td>\n      <td>4112.803148</td>\n      <td>0.030331</td>\n      <td>11470.181802</td>\n      <td>9166.005235</td>\n      <td>14906.279740</td>\n      <td>21299.868863</td>\n      <td>23789.655363</td>\n      <td>6944.998579</td>\n    </tr>\n    <tr>\n      <th>min</th>\n      <td>1.000000</td>\n      <td>1100.000000</td>\n      <td>124.000000</td>\n      <td>119.000000</td>\n      <td>0.000000</td>\n      <td>0.000000</td>\n      <td>2.000000</td>\n      <td>0.000000</td>\n      <td>111.000000</td>\n      <td>0.000000</td>\n      <td>111.000000</td>\n      <td>0.000000</td>\n      <td>0.000000</td>\n      <td>22000.000000</td>\n      <td>18500.000000</td>\n      <td>22000.000000</td>\n      <td>0.000000</td>\n      <td>0.000000</td>\n      <td>0.000000</td>\n    </tr>\n    <tr>\n      <th>25%</th>\n      <td>44.000000</td>\n      <td>2403.000000</td>\n      <td>4549.750000</td>\n      <td>2177.500000</td>\n      <td>1778.250000</td>\n      <td>0.336026</td>\n      <td>39.000000</td>\n      <td>3608.000000</td>\n      <td>3154.000000</td>\n      <td>1030.000000</td>\n      <td>2453.000000</td>\n      <td>304.000000</td>\n      <td>0.050306</td>\n      <td>33000.000000</td>\n      <td>24000.000000</td>\n      <td>42000.000000</td>\n      <td>1675.000000</td>\n      <td>1591.000000</td>\n      <td>340.000000</td>\n    </tr>\n    <tr>\n      <th>50%</th>\n      <td>87.000000</td>\n      <td>3608.000000</td>\n      <td>15104.000000</td>\n      <td>5434.000000</td>\n      <td>8386.500000</td>\n      <td>0.534024</td>\n      <td>130.000000</td>\n      <td>11797.000000</td>\n      <td>10048.000000</td>\n      <td>3299.000000</td>\n      <td>7413.000000</td>\n      <td>893.000000</td>\n      <td>0.067961</td>\n      <td>36000.000000</td>\n      <td>27000.000000</td>\n      <td>47000.000000</td>\n      <td>4390.000000</td>\n      <td>4595.000000</td>\n      <td>1231.000000</td>\n    </tr>\n    <tr>\n      <th>75%</th>\n      <td>130.000000</td>\n      <td>5503.000000</td>\n      <td>38909.750000</td>\n      <td>14631.000000</td>\n      <td>22553.750000</td>\n      <td>0.703299</td>\n      <td>338.000000</td>\n      <td>31433.000000</td>\n      <td>25147.000000</td>\n      <td>9948.000000</td>\n      <td>16891.000000</td>\n      <td>2393.000000</td>\n      <td>0.087557</td>\n      <td>45000.000000</td>\n      <td>33000.000000</td>\n      <td>60000.000000</td>\n      <td>14444.000000</td>\n      <td>11783.000000</td>\n      <td>3466.000000</td>\n    </tr>\n    <tr>\n      <th>max</th>\n      <td>173.000000</td>\n      <td>6403.000000</td>\n      <td>393735.000000</td>\n      <td>173809.000000</td>\n      <td>307087.000000</td>\n      <td>0.968954</td>\n      <td>4212.000000</td>\n      <td>307933.000000</td>\n      <td>251540.000000</td>\n      <td>115172.000000</td>\n      <td>199897.000000</td>\n      <td>28169.000000</td>\n      <td>0.177226</td>\n      <td>110000.000000</td>\n      <td>95000.000000</td>\n      <td>125000.000000</td>\n      <td>151643.000000</td>\n      <td>148395.000000</td>\n      <td>48207.000000</td>\n    </tr>\n  </tbody>\n</table>\n</div>"
     },
     "execution_count": 6,
     "metadata": {},
     "output_type": "execute_result"
    }
   ],
   "source": [
    "df = pd.read_csv(fileselect.value, delimiter=\",\")\n",
    "df.describe()"
   ]
  },
  {
   "cell_type": "code",
   "execution_count": 7,
   "metadata": {},
   "outputs": [
    {
     "data": {
      "text/plain": "<Figure size 288x288 with 2 Axes>",
      "image/png": "[encoded data removed]"
     },
     "metadata": {
      "needs_background": "light"
     },
     "output_type": "display_data"
    }
   ],
   "source": [
    "#корреляция \n",
    "df = df.fillna(0)\n",
    "df = df.drop('Rank', 1)\n",
    "corr = df.corr()\n",
    "corrMat = plt.matshow(corr, fignum = 1)\n",
    "plt.xticks(range(len(corr.columns)), corr.columns, rotation=90)\n",
    "plt.yticks(range(len(corr.columns)), corr.columns)\n",
    "plt.gca().xaxis.tick_bottom()\n",
    "plt.colorbar(corrMat)\n",
    "plt.title(\"Correlation\", fontsize=15)\n",
    "plt.show()"
   ]
  },
  {
   "cell_type": "code",
   "execution_count": 8,
   "metadata": {},
   "outputs": [],
   "source": [
    "ddf = df.select_dtypes(include=['number'])\n",
    "form_item_layout = Layout(\n",
    "    display='flex',\n",
    "    flex_flow='row',\n",
    "    justify_content='space-between'\n",
    ")\n",
    "\n",
    "form_items = [\n",
    "    Box([Label(value='Первая колонка'), Select(\n",
    "    options=list(ddf.columns),\n",
    "    disabled=False\n",
    ")], layout=form_item_layout),\n",
    "    Box([Label(value='Вторая колонка'), Select(\n",
    "    options=list(ddf.columns),\n",
    "    disabled=False\n",
    ")], layout=form_item_layout),\n",
    "    Box([Label(value='Третья колонка'), Select(\n",
    "    options=list(ddf.columns),\n",
    "    disabled=False\n",
    ")], layout=form_item_layout),\n",
    "]\n",
    "\n",
    "form = Box(form_items, layout=Layout(\n",
    "    display='flex',\n",
    "    flex_flow='column',\n",
    "    border='solid 2px',\n",
    "    align_items='stretch',\n",
    "    width='50%'\n",
    "))"
   ]
  },
  {
   "cell_type": "code",
   "execution_count": 9,
   "metadata": {
    "collapsed": true
   },
   "outputs": [
    {
     "data": {
      "text/plain": "Box(children=(Box(children=(Label(value='Первая колонка'), Select(options=('Major_code', 'Total', 'Men', 'Wome…",
      "application/vnd.jupyter.widget-view+json": {
       "version_major": 2,
       "version_minor": 0,
       "model_id": "eaf8bc0aea774051878ce718ea379f57"
      }
     },
     "metadata": {},
     "output_type": "display_data"
    }
   ],
   "source": [
    "form"
   ]
  },
  {
   "cell_type": "code",
   "execution_count": 10,
   "metadata": {},
   "outputs": [],
   "source": [
    "def MakeNClusters(n):\n",
    "    fig = plt.figure()\n",
    "    ax = fig.add_subplot(111, projection='3d')\n",
    "    left = form.children[0].children[1].value\n",
    "    middle = form.children[1].children[1].value\n",
    "    right = form.children[2].children[1].value\n",
    "    print(\"Clusters: {} {} {}\".format(form.children[0].children[1].value, form.children[1].children[1].value, form.children[2].children[1].value))\n",
    "    X = ddf[[left, middle, right]].values\n",
    "    X = StandardScaler().fit_transform(X)\n",
    "    kmeans = KMeans(n_clusters=n, init='k-means++', max_iter=300, n_init=10, random_state=0)\n",
    "    pred_y = kmeans.fit(X)\n",
    "    ax.scatter(X[:,0], X[:,1], X[:,2], c= kmeans.labels_.astype(float))\n",
    "    ax.scatter(kmeans.cluster_centers_[:, 0], kmeans.cluster_centers_[:, 1], s=20, c='red')\n",
    "    plt.title('Количество кластеров: %d' % n)\n",
    "    plt.show()"
   ]
  },
  {
   "cell_type": "code",
   "execution_count": 11,
   "metadata": {
    "scrolled": true
   },
   "outputs": [
    {
     "data": {
      "text/plain": "interactive(children=(IntSlider(value=6, description='n', max=10, min=2), Output()), _dom_classes=('widget-int…",
      "application/vnd.jupyter.widget-view+json": {
       "version_major": 2,
       "version_minor": 0,
       "model_id": "36969f16345d4654b80af48df1c02a27"
      }
     },
     "metadata": {},
     "output_type": "display_data"
    }
   ],
   "source": [
    "interactive_plot = interactive(MakeNClusters, n=(2, 10))\n",
    "display(interactive_plot)"
   ]
  },
  {
   "cell_type": "code",
   "execution_count": 12,
   "metadata": {},
   "outputs": [],
   "source": [
    "def MakeDBSCAN(eps):\n",
    "    left = form.children[0].children[1].value\n",
    "    right = form.children[1].children[1].value\n",
    "    X = StandardScaler().fit_transform(df[[left, right]].values)\n",
    "    db = DBSCAN(eps=eps, min_samples=10).fit(X)\n",
    "\n",
    "    core_samples_mask = np.zeros_like(db.labels_, dtype=bool)\n",
    "    core_samples_mask[db.core_sample_indices_] = True\n",
    "    labels = db.labels_\n",
    "\n",
    "    # Number of clusters in labels, ignoring noise if present.\n",
    "    n_clusters_ = len(set(labels)) - (1 if -1 in labels else 0)\n",
    "    n_noise_ = list(labels).count(-1)\n",
    "\n",
    "    unique_labels = set(labels)\n",
    "    colors = [plt.cm.Spectral(each)\n",
    "              for each in np.linspace(0, 1, len(unique_labels))]\n",
    "    for k, col in zip(unique_labels, colors):\n",
    "        if k == -1:\n",
    "            # Black used for noise.\n",
    "            col = [0, 0, 0, 1]\n",
    "\n",
    "        class_member_mask = (labels == k)\n",
    "\n",
    "        xy = X[class_member_mask & core_samples_mask]\n",
    "        plt.plot(xy[:, 0], xy[:, 1], 'o', markerfacecolor=tuple(col),\n",
    "                 markeredgecolor='k', markersize=14)\n",
    "\n",
    "        xy = X[class_member_mask & ~core_samples_mask]\n",
    "        plt.plot(xy[:, 0], xy[:, 1], 'o', markerfacecolor=tuple(col),\n",
    "                 markeredgecolor='k', markersize=6)\n",
    "\n",
    "    plt.title('Количество кластеров: %d' % n_clusters_)\n",
    "    plt.show()"
   ]
  },
  {
   "cell_type": "code",
   "execution_count": 13,
   "metadata": {},
   "outputs": [
    {
     "data": {
      "text/plain": "interactive(children=(FloatSlider(value=0.55, description='eps', max=1.0, min=0.1), Output()), _dom_classes=('…",
      "application/vnd.jupyter.widget-view+json": {
       "version_major": 2,
       "version_minor": 0,
       "model_id": "bd3a75036f194fc4aa320ab4ea7413b7"
      }
     },
     "metadata": {},
     "output_type": "display_data"
    }
   ],
   "source": [
    "interactive_plot = interactive(MakeDBSCAN, eps=(0.1, 1.0))\n",
    "display(interactive_plot)"
   ]
  },
  {
   "cell_type": "code",
   "execution_count": 14,
   "metadata": {
    "scrolled": true
   },
   "outputs": [
    {
     "data": {
      "text/plain": "Box(children=(Box(children=(Label(value='Первая колонка'), Select(options=('Major_code', 'Total', 'Men', 'Wome…",
      "application/vnd.jupyter.widget-view+json": {
       "version_major": 2,
       "version_minor": 0,
       "model_id": "eaf8bc0aea774051878ce718ea379f57"
      }
     },
     "metadata": {},
     "output_type": "display_data"
    }
   ],
   "source": [
    "form"
   ]
  },
  {
   "cell_type": "code",
   "execution_count": 15,
   "metadata": {},
   "outputs": [],
   "source": [
    "def MeanShift(bd):\n",
    "    left = form.children[0].children[1].value\n",
    "    right = form.children[1].children[1].value\n",
    "    X = StandardScaler().fit_transform(df[[left, right]].values)\n",
    "    ms = cluster.MeanShift(bandwidth=bd, bin_seeding=True)\n",
    "    ms.fit(X)\n",
    "\n",
    "    cluster_centers_indices = ms.cluster_centers_\n",
    "    n_clusters_ = len(cluster_centers_indices)\n",
    "    labels = ms.labels_\n",
    "\n",
    "    cluster_centers = ms.cluster_centers_\n",
    "\n",
    "    for k in range(n_clusters_):\n",
    "        my_members = labels == k\n",
    "        cluster_center = cluster_centers[k]\n",
    "        plt.plot(X[my_members, 0], X[my_members, 1])\n",
    "        plt.plot(cluster_center[0], cluster_center[1], '*', markeredgecolor='k', markersize=10)\n",
    "    plt.title('Количество кластеров: %d' % n_clusters_)\n",
    "    plt.show()"
   ]
  },
  {
   "cell_type": "code",
   "execution_count": 16,
   "metadata": {},
   "outputs": [
    {
     "data": {
      "text/plain": "interactive(children=(FloatSlider(value=2.5500000000000003, description='bd', max=5.0, min=0.1), Output()), _d…",
      "application/vnd.jupyter.widget-view+json": {
       "version_major": 2,
       "version_minor": 0,
       "model_id": "f3ac4fbb11124243a53322b2251426d7"
      }
     },
     "metadata": {},
     "output_type": "display_data"
    }
   ],
   "source": [
    "interactive_plot = interactive(MeanShift, bd=(0.1, 5))\n",
    "display(interactive_plot)"
   ]
  },
  {
   "cell_type": "code",
   "execution_count": 16,
   "metadata": {},
   "outputs": [],
   "source": []
  }
 ],
 "metadata": {
  "kernelspec": {
   "display_name": "Python 3",
   "language": "python",
   "name": "python3"
  },
  "language_info": {
   "codemirror_mode": {
    "name": "ipython",
    "version": 3
   },
   "file_extension": ".py",
   "mimetype": "text/x-python",
   "name": "python",
   "nbconvert_exporter": "python",
   "pygments_lexer": "ipython3",
   "version": "3.9.1"
  }
 },
 "nbformat": 4,
 "nbformat_minor": 4
}